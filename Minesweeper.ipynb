{
  "cells": [
    {
      "cell_type": "markdown",
      "metadata": {
        "id": "view-in-github",
        "colab_type": "text"
      },
      "source": [
        "<a href=\"https://colab.research.google.com/github/TobiaP/Minesweeper/blob/main/Minesweeper.ipynb\" target=\"_parent\"><img src=\"https://colab.research.google.com/assets/colab-badge.svg\" alt=\"Open In Colab\"/></a>"
      ]
    },
    {
      "cell_type": "markdown",
      "metadata": {
        "id": "eWeVbWaVJWfc"
      },
      "source": [
        "# MINESWEEPER"
      ]
    },
    {
      "cell_type": "markdown",
      "metadata": {
        "id": "QYQLE2TOJiIU"
      },
      "source": [
        "# Parameters\n",
        "\n"
      ]
    },
    {
      "cell_type": "markdown",
      "metadata": {
        "id": "4WtDXPxGJtSk"
      },
      "source": [
        "Here we can choose the parameters needed to build the board."
      ]
    },
    {
      "cell_type": "code",
      "execution_count": 21,
      "metadata": {
        "id": "xAhiZbipJWKt"
      },
      "outputs": [],
      "source": [
        "# Beginner 8x8 with 10 mines\n",
        "# Intermediate 16x16 with 40 mines\n",
        "# Expert 30x16 with 99 mines\n",
        "\n",
        "HEIGHT = 4\n",
        "WIDTH = 4\n",
        "MINES = 4"
      ]
    },
    {
      "cell_type": "markdown",
      "metadata": {
        "id": "Zk_ep1v-J04l"
      },
      "source": [
        "# Initialization"
      ]
    },
    {
      "cell_type": "markdown",
      "metadata": {
        "id": "5VvH3rVBJ_W0"
      },
      "source": [
        "Packages, images and mines initialization"
      ]
    },
    {
      "cell_type": "code",
      "execution_count": 22,
      "metadata": {
        "colab": {
          "base_uri": "https://localhost:8080/"
        },
        "id": "HhWy6PD7iJUi",
        "outputId": "d2313127-b29a-4cc3-dd2b-3253d5cc2469"
      },
      "outputs": [
        {
          "output_type": "stream",
          "name": "stdout",
          "text": [
            "fatal: destination path 'Minesweeper' already exists and is not an empty directory.\n"
          ]
        }
      ],
      "source": [
        "%matplotlib inline\n",
        "\n",
        "# Packages\n",
        "\n",
        "!pip install --quiet python-sat[pblib,aiger]\n",
        "\n",
        "import matplotlib.pyplot as plt\n",
        "import matplotlib.image as mpimg\n",
        "import matplotlib\n",
        "import torch\n",
        "from PIL import Image, ImageOps\n",
        "import random\n",
        "import sys\n",
        "import requests\n",
        "import urllib.request\n",
        "from io import BytesIO\n",
        "from pysat.solvers import Minisat22\n",
        "from pysat.formula import CNF, CNFPlus\n",
        "from pysat.card import *\n",
        "import itertools\n",
        "\n",
        "\n",
        "\n",
        "sys.setrecursionlimit(1500)\n",
        "\n",
        "# Images\n",
        "!git clone https://github.com/TobiaP/Minesweeper.git\n",
        "\n",
        "img0 = Image.open('/content/Minesweeper/images/img0.png').resize((250, 250), Image.Resampling.LANCZOS)\n",
        "img1 = Image.open('/content/Minesweeper/images/img1.svg').resize((250, 250), Image.Resampling.LANCZOS)\n",
        "img2 = Image.open('/content/Minesweeper/images/img2.svg').resize((250, 250), Image.Resampling.LANCZOS)\n",
        "img3 = Image.open('/content/Minesweeper/images/img3.svg').resize((250, 250), Image.Resampling.LANCZOS)\n",
        "img4 = Image.open('/content/Minesweeper/images/img4.svg').resize((250, 250), Image.Resampling.LANCZOS)\n",
        "img5 = Image.open('/content/Minesweeper/images/img5.svg').resize((250, 250), Image.Resampling.LANCZOS)\n",
        "img6 = Image.open('/content/Minesweeper/images/img6.svg').resize((250, 250), Image.Resampling.LANCZOS)\n",
        "img7 = Image.open('/content/Minesweeper/images/img7.svg').resize((250, 250), Image.Resampling.LANCZOS)\n",
        "img8 = Image.open('/content/Minesweeper/images/img8.svg').resize((250, 250), Image.Resampling.LANCZOS)\n",
        "imgmine = Image.open('/content/Minesweeper/images/imgmine.png').resize((250, 250), Image.Resampling.LANCZOS)\n",
        "imgflag = Image.open('/content/Minesweeper/images/imgflag.png').resize((250, 250), Image.Resampling.LANCZOS)\n",
        "imghidden = Image.open('/content/Minesweeper/images/imghidden.svg').resize((250, 250), Image.Resampling.LANCZOS)\n",
        "\n",
        "# imgset = [imghidden for i in range(100)]\n",
        "\n",
        "# shown board:\n",
        "# -> 1 if cell is shown\n",
        "# -> 0 if cell is hidden\n",
        "# -> -1 if cell is a flag\n",
        "board = [[0 for i in range(WIDTH)] for j in range(HEIGHT)]\n",
        "\n",
        "# hidden board (complete with everithing)\n",
        "hidboard = [[-1 for i in range(WIDTH)] for j in range(HEIGHT)]\n",
        "\n",
        "# mines are distributed inside the board\n",
        "\n",
        "mines = []\n",
        "flags = []\n",
        "hidden_mines = MINES\n",
        "\n",
        "while len(mines) < MINES:\n",
        "  newmine = [random.randrange(0, HEIGHT, 1),random.randrange(0, WIDTH, 1)]\n",
        "  if newmine not in mines:\n",
        "    mines.append(newmine)"
      ]
    },
    {
      "cell_type": "code",
      "execution_count": 23,
      "metadata": {
        "id": "uXo3WJNhi-TT"
      },
      "outputs": [],
      "source": [
        "def cell_pos(y, x):\n",
        "  return y*WIDTH + x"
      ]
    },
    {
      "cell_type": "markdown",
      "metadata": {
        "id": "-qROb9lv8Wx9"
      },
      "source": [
        "# Game"
      ]
    },
    {
      "cell_type": "code",
      "execution_count": 24,
      "metadata": {
        "id": "cClu7XzcOChl"
      },
      "outputs": [],
      "source": [
        "def write_hidboard():\n",
        "\n",
        "  \"\"\"\n",
        "  Writes the global matrix hidboard according to the mines distribution\n",
        "  \"\"\"\n",
        "\n",
        "  for i in range(HEIGHT):\n",
        "    for j in range(WIDTH):\n",
        "      minecount = 0\n",
        "\n",
        "      if [i, j] in mines:\n",
        "        hidboard[i][j] = -2\n",
        "      else:\n",
        "        if i!=0:\n",
        "          if [i-1, j] in mines:\n",
        "            minecount += 1\n",
        "          if j!=0:\n",
        "            if [i-1, j-1] in mines:\n",
        "              minecount += 1\n",
        "          if j!=WIDTH-1:\n",
        "            if [i-1, j+1] in mines:\n",
        "              minecount += 1\n",
        "        if i!=HEIGHT-1:\n",
        "          if [i+1, j] in mines:\n",
        "            minecount += 1\n",
        "          if j!=0:\n",
        "            if [i+1, j-1] in mines:\n",
        "              minecount += 1\n",
        "          if j!=WIDTH-1:\n",
        "            if [i+1, j+1] in mines:\n",
        "              minecount += 1\n",
        "        if j!=0:\n",
        "          if [i, j-1] in mines:\n",
        "            minecount += 1\n",
        "        if j!=WIDTH-1:\n",
        "          if [i, j+1] in mines:\n",
        "            minecount += 1\n",
        "        hidboard[i][j] = minecount\n",
        "\n",
        "write_hidboard()"
      ]
    },
    {
      "cell_type": "code",
      "execution_count": 25,
      "metadata": {
        "id": "ZJptxjrd13qR"
      },
      "outputs": [],
      "source": [
        "def Match_lost():\n",
        "\n",
        "  \"\"\"\n",
        "  Prints the game over message.\n",
        "  \"\"\"\n",
        "  print('\\n\\n //###########\\\\\\ ')\n",
        "  print(' || YOU LOST! ||')\n",
        "  print(' \\\\\\###########// \\n\\n')\n",
        "\n",
        "def Match_won():\n",
        "\n",
        "  \"\"\"\n",
        "  Prints the game won message.\n",
        "  \"\"\"\n",
        "  print('\\n\\n //##########\\\\\\ ')\n",
        "  print(' || YOU WON! || ')\n",
        "  print(' \\\\\\##########// \\n\\n')\n",
        "\n",
        "# Match_lost()\n",
        "# Match_won()"
      ]
    },
    {
      "cell_type": "code",
      "execution_count": 26,
      "metadata": {
        "id": "BWOoCu0mMAFs"
      },
      "outputs": [],
      "source": [
        "def select_img(value):\n",
        "\n",
        "  \"\"\"\n",
        "\n",
        "  Returns the image corresponding to the \"value\"\n",
        "\n",
        "  Arguments:\n",
        "  -> value: the value according to the hidboard or to the board corresponding to the image.\n",
        "\n",
        "  \"\"\"\n",
        "\n",
        "  match value:\n",
        "    case -1:\n",
        "      return imghidden\n",
        "    case 0:\n",
        "      return img0\n",
        "    case 1:\n",
        "      return img1\n",
        "    case 2:\n",
        "      return img2\n",
        "    case 3:\n",
        "      return img3\n",
        "    case 4:\n",
        "      return img4\n",
        "    case 5:\n",
        "      return img5\n",
        "    case 6:\n",
        "      return img6\n",
        "    case 7:\n",
        "      return img7\n",
        "    case 8:\n",
        "      return img8\n",
        "    case -2:\n",
        "      return imgmine\n",
        "    case 9:\n",
        "      return imgflag"
      ]
    },
    {
      "cell_type": "code",
      "execution_count": 27,
      "metadata": {
        "id": "cUsrMDQOF7rM"
      },
      "outputs": [],
      "source": [
        "def get_board():\n",
        "\n",
        "  \"\"\"\n",
        "  Overlaps the board and the hidboard and returns a vector made of images.\n",
        "\n",
        "  Returns the board of images to be shown.\n",
        "  \"\"\"\n",
        "\n",
        "  bshown = []\n",
        "  for i in range(HEIGHT):\n",
        "    for j in range(WIDTH):\n",
        "\n",
        "      # shown element of hidden board\n",
        "      if board[i][j] == 1:\n",
        "        bshown.append(select_img(hidboard[i][j]))\n",
        "\n",
        "      # hidden element\n",
        "      elif board[i][j] == 0:\n",
        "        bshown.append(select_img(-1))\n",
        "\n",
        "      #flag element\n",
        "      elif board[i][j] == -1:\n",
        "        bshown.append(select_img(9))\n",
        "\n",
        "  return bshown\n",
        "\n",
        "\n",
        "#for i in range(HEIGHT):\n",
        "  #for j in range(WIDTH):\n",
        "    #board[i][j] = 1\n",
        "\n",
        "# plot_game(get_board(), 3, 7)\n"
      ]
    },
    {
      "cell_type": "code",
      "execution_count": 28,
      "metadata": {
        "id": "9FXfBpzyM-VE"
      },
      "outputs": [],
      "source": [
        "def unveil(y, x):\n",
        "\n",
        "  \"\"\"\n",
        "  Unveil the cell (y,x) and the cells near it,\n",
        "  if they have to be unveiled.\n",
        "\n",
        "  Arguments:\n",
        "  -> y: the y coordinate of the cell\n",
        "  -> x: the x coordinate of the cell\n",
        "  \"\"\"\n",
        "\n",
        "  if x<0:\n",
        "    return\n",
        "  if y<0:\n",
        "    return\n",
        "  if y>=HEIGHT:\n",
        "    return\n",
        "  if x>=WIDTH:\n",
        "    return\n",
        "  if board[y][x] == 1 or board[y][x] == -1:\n",
        "    return\n",
        "\n",
        "  board[y][x] = 1\n",
        "\n",
        "  if hidboard[y][x] < 0 or hidboard[y][x] >= 9:\n",
        "    return\n",
        "\n",
        "\n",
        "  if hidboard[y][x] == 0:\n",
        "    unveil(y-1, x-1)\n",
        "    unveil(y-1, x)\n",
        "    unveil(y-1, x+1)\n",
        "    unveil(y, x-1)\n",
        "    unveil(y, x+1)\n",
        "    unveil(y+1, x-1)\n",
        "    unveil(y+1, x)\n",
        "    unveil(y+1, x+1)\n",
        "\n",
        "def click_board(y, x):\n",
        "\n",
        "  \"\"\"\n",
        "  Checks if a mine is clicked, in this case :\n",
        "  -> LOST = TRUE\n",
        "\n",
        "  If the cell is not already revealed, unveil(cell).\n",
        "\n",
        "  Arguments:\n",
        "  -> y: the y coordinate of the cell\n",
        "  -> x: the x coordinate of the cell\n",
        "  \"\"\"\n",
        "\n",
        "  if [y, x] in mines:\n",
        "    for i in range(HEIGHT):\n",
        "      for j in range(WIDTH):\n",
        "        board[i][j] = 1\n",
        "    return True\n",
        "\n",
        "  unveil(y, x)\n",
        "  return False\n",
        "\n",
        "def flag(y, x):\n",
        "\n",
        "  \"\"\"\n",
        "  If the cell is not already revealed\n",
        "  flag the cell.\n",
        "\n",
        "  Arguments:\n",
        "  -> y: the y coordinate of the cell\n",
        "  -> x: the x coordinate of the cell\n",
        "  \"\"\"\n",
        "\n",
        "  if board[y][x] == 0:\n",
        "    board[y][x] = -1\n",
        "\n",
        "    global hidden_mines\n",
        "    hidden_mines = hidden_mines - 1\n",
        "    flags.append([y, x])\n"
      ]
    },
    {
      "cell_type": "code",
      "execution_count": 29,
      "metadata": {
        "id": "EzjRs4mwN5ar"
      },
      "outputs": [],
      "source": [
        "# print the game\n",
        "# imageset is the number\n",
        "\n",
        "def plot_game(imageset, y_tile, x_tile):\n",
        "  \"\"\"\n",
        "  Prints the number of unfound mines.\n",
        "  Plots the matrix of images.\n",
        "  the image in (y_tile, x_tile), which is the last clicke, is highlighted.\n",
        "\n",
        "  Returns:\n",
        "  True if lost\n",
        "  \"\"\"\n",
        "\n",
        "  print(\"\\n\\n //#############\\\\\\ \")\n",
        "  print(\" || MINES = \", hidden_mines, \"||\")\n",
        "  print(\" \\\\\\#############// \\n\\n\")\n",
        "\n",
        "  fig, axes = plt.subplots(HEIGHT, WIDTH, figsize=(4,4))\n",
        "\n",
        "  tile = []\n",
        "  for i in range(len(x_tile)):\n",
        "    tile.append(cell_pos(y_tile[i], x_tile[i]))\n",
        "\n",
        "  for i,ax in enumerate(axes.flat):\n",
        "    BORDER = 10\n",
        "    if i in tile:\n",
        "      img = imageset[i].copy()\n",
        "      for x in range(img.width):\n",
        "        for y in range(img.height - BORDER, img.height):\n",
        "          img.putpixel((x, y), (0,255,255))\n",
        "        for y in range(0, BORDER):\n",
        "          img.putpixel((x, y), (0,255,255))\n",
        "      for y in range(img.height):\n",
        "        for x in range(0, BORDER):\n",
        "          img.putpixel((x, y), (0,255,255))\n",
        "        for x in range(img.width - BORDER, img.width):\n",
        "          img.putpixel((x, y), (0,255,255))\n",
        "\n",
        "\n",
        "      ax.imshow(img)\n",
        "    else :\n",
        "      ax.imshow(imageset[i])\n",
        "    ax.axis('off')\n",
        "  plt.subplots_adjust(wspace=0, hspace=0, left=0, right=1, bottom=0, top=1)\n",
        "  plt.show()\n"
      ]
    },
    {
      "cell_type": "markdown",
      "metadata": {
        "id": "8jja54kDDFFk"
      },
      "source": [
        "# Solution"
      ]
    },
    {
      "cell_type": "code",
      "execution_count": 30,
      "metadata": {
        "id": "q3FdKKaTbVgT"
      },
      "outputs": [],
      "source": [
        "def is_hidden(y, x):\n",
        "\n",
        "  \"\"\"\n",
        "  Checks if a cell is hidden (and inside the Grid).\n",
        "  Returns True if it is, False otherwise.\n",
        "\n",
        "  Arguments:\n",
        "  -> y: the y coordinate of the cell\n",
        "  -> x: the x coordinate of the cell\n",
        "  \"\"\"\n",
        "\n",
        "  if x<0:\n",
        "    return False\n",
        "  if y<0:\n",
        "    return False\n",
        "  if y>=HEIGHT:\n",
        "    return False\n",
        "  if x>=WIDTH:\n",
        "    return False\n",
        "\n",
        "  if board[y][x] == 0:\n",
        "    return True\n",
        "  else :\n",
        "    return False"
      ]
    },
    {
      "cell_type": "code",
      "execution_count": 31,
      "metadata": {
        "id": "Wm3zVMBCd2LN"
      },
      "outputs": [],
      "source": [
        "def is_number(y, x):\n",
        "\n",
        "  \"\"\"\n",
        "  Checks if a cell is a number (and if it is inside the Grid).\n",
        "  Returns True if it is, False otherwise.\n",
        "\n",
        "  Arguments:\n",
        "  -> y: the y coordinate of the cell\n",
        "  -> x: the x coordinate of the cell\n",
        "  \"\"\"\n",
        "\n",
        "  if x<0:\n",
        "    return False\n",
        "  if y<0:\n",
        "    return False\n",
        "  if y>=HEIGHT:\n",
        "    return False\n",
        "  if x>=WIDTH:\n",
        "    return False\n",
        "\n",
        "  if board[y][x] == 1 and hidboard[y][x]>0:\n",
        "    return True\n",
        "  else :\n",
        "    return False"
      ]
    },
    {
      "cell_type": "code",
      "execution_count": 32,
      "metadata": {
        "id": "qv_J3lUXd8Rt"
      },
      "outputs": [],
      "source": [
        "def is_flag(y, x):\n",
        "  \"\"\"\n",
        "  Checks if a cell is a flag (and if it is inside the Grid).\n",
        "  Returns True if it is, False otherwise.\n",
        "\n",
        "  Arguments:\n",
        "  -> y: the y coordinate of the cell\n",
        "  -> x: the x coordinate of the cell\n",
        "  \"\"\"\n",
        "\n",
        "  if x<0:\n",
        "    return False\n",
        "  if y<0:\n",
        "    return False\n",
        "  if y>=HEIGHT:\n",
        "    return False\n",
        "  if x>=WIDTH:\n",
        "    return False\n",
        "\n",
        "  if board[y][x] == -1:\n",
        "    return True\n",
        "  else :\n",
        "    return False"
      ]
    },
    {
      "cell_type": "code",
      "execution_count": 33,
      "metadata": {
        "id": "IYPrg37saevY"
      },
      "outputs": [],
      "source": [
        "def near(y, x):\n",
        "\n",
        "  \"\"\"\n",
        "  Checks which cells around the cell are hidden and returns them.\n",
        "  Returns the list of the near cells.\n",
        "\n",
        "  Arguments:\n",
        "  -> y: the y coordinate of the central cell\n",
        "  -> x: the x coordinate of the central cell\n",
        "  \"\"\"\n",
        "\n",
        "  near = []\n",
        "\n",
        "  if(is_hidden(y-1, x-1)):\n",
        "    near.append(cell_pos(y-1, x-1)+1)\n",
        "  if(is_hidden(y-1, x)):\n",
        "    near.append(cell_pos(y-1, x)+1)\n",
        "  if(is_hidden(y-1, x+1)):\n",
        "    near.append(cell_pos(y-1, x+1)+1)\n",
        "  if(is_hidden(y, x-1)):\n",
        "    near.append(cell_pos(y, x-1)+1)\n",
        "  if(is_hidden(y, x+1)):\n",
        "    near.append(cell_pos(y, x+1)+1)\n",
        "  if(is_hidden(y+1, x-1)):\n",
        "    near.append(cell_pos(y+1, x-1)+1)\n",
        "  if(is_hidden(y+1, x)):\n",
        "    near.append(cell_pos(y+1, x)+1)\n",
        "  if(is_hidden(y+1, x+1)):\n",
        "    near.append(cell_pos(y+1, x+1)+1)\n",
        "\n",
        "  return near"
      ]
    },
    {
      "cell_type": "code",
      "execution_count": 34,
      "metadata": {
        "id": "lpMFxuLKdyN1"
      },
      "outputs": [],
      "source": [
        "def near_flags(y, x):\n",
        "\n",
        "  \"\"\"\n",
        "  Checks how many flags are around the cell.\n",
        "  Returns the number of flags.\n",
        "\n",
        "  Arguments:\n",
        "  -> y: the y coordinate of the central cell\n",
        "  -> x: the x coordinate of the central cell\n",
        "  \"\"\"\n",
        "\n",
        "  near_flags = 0\n",
        "\n",
        "  if(is_flag(y-1, x-1)):\n",
        "    near_flags = near_flags + 1\n",
        "  if(is_flag(y-1, x)):\n",
        "    near_flags = near_flags + 1\n",
        "  if(is_flag(y-1, x+1)):\n",
        "    near_flags = near_flags + 1\n",
        "  if(is_flag(y, x-1)):\n",
        "    near_flags = near_flags + 1\n",
        "  if(is_flag(y, x+1)):\n",
        "    near_flags = near_flags + 1\n",
        "  if(is_flag(y+1, x-1)):\n",
        "    near_flags = near_flags + 1\n",
        "  if(is_flag(y+1, x)):\n",
        "    near_flags = near_flags + 1\n",
        "  if(is_flag(y+1, x+1)):\n",
        "    near_flags = near_flags + 1\n",
        "\n",
        "  return near_flags"
      ]
    },
    {
      "cell_type": "code",
      "source": [
        "def At_least(Gamma, lits, bound):\n",
        "\n",
        "  \"\"\"\n",
        "  Computes the At least k value in CNF\n",
        "  Returns the CNF value\n",
        "\n",
        "  Arguments:\n",
        "  - lits:list of literals\n",
        "  - bound: k for At least k\n",
        "  \"\"\"\n",
        "\n",
        "  num_elements = len(lits) - bound + 1\n",
        "\n",
        "  for least in list(itertools.combinations(lits, num_elements)):\n",
        "    Gamma.add_clause(least)\n",
        "\n",
        "#At_least([1,2,3,4,5], 3)"
      ],
      "metadata": {
        "id": "02WDqQQ6Llcp"
      },
      "execution_count": 35,
      "outputs": []
    },
    {
      "cell_type": "code",
      "source": [
        "def At_most(Gamma, lits, bound):\n",
        "\n",
        "  \"\"\"\n",
        "  Computes the At most k value in CNF\n",
        "  Returns the CNF value\n",
        "\n",
        "  Arguments:\n",
        "  - lits:list of literals\n",
        "  - bound: k for At most k\n",
        "  \"\"\"\n",
        "\n",
        "  num_elements = bound + 1\n",
        "\n",
        "  for most in list(itertools.combinations(lits, num_elements)):\n",
        "    Gamma.add_clause([-x for x in most])\n",
        "\n",
        "# At_most([1,2,3,4,5], 3)"
      ],
      "metadata": {
        "id": "csmmLJirNSZn"
      },
      "execution_count": 36,
      "outputs": []
    },
    {
      "cell_type": "code",
      "source": [
        "def equals(Gamma, lits, bound):\n",
        "  \"\"\"\n",
        "  Computes the equals k value in CNF\n",
        "  Returns the CNF value\n",
        "\n",
        "  Arguments:\n",
        "  - lits:list of literals\n",
        "  - bound: k for equals k\n",
        "  \"\"\"\n",
        "\n",
        "  At_least(Gamma, lits, bound)\n",
        "  At_most(Gamma, lits, bound)\n",
        "\n",
        "# equals([1,2,3,4,5], 3)"
      ],
      "metadata": {
        "id": "4PrXSaadapuJ"
      },
      "execution_count": 37,
      "outputs": []
    },
    {
      "cell_type": "code",
      "execution_count": 38,
      "metadata": {
        "id": "Ei6vrUOVYf-N"
      },
      "outputs": [],
      "source": [
        "\n",
        "def build_CNF(Gamma):\n",
        "\n",
        "  \"\"\"\n",
        "  builds the CNF formula for the S1,S2,S3,S4.\n",
        "  S0: AND(for every number) S1 and S2 : exactly m mines around every numbered element\n",
        "  S3: S4 and S5 : exactly M mines in the whole board\n",
        "  Return the CNF formula for S0 and S3.\n",
        "  \"\"\"\n",
        "\n",
        "\n",
        "  S = []\n",
        "\n",
        "  #### S0 ####\n",
        "\n",
        "  for i in range(HEIGHT):\n",
        "    for j in range(WIDTH):\n",
        "\n",
        "      if is_number(i, j) and len(near(i,j))>0:\n",
        "        equals(Gamma, near(i, j), (hidboard[i][j]-near_flags(i, j)))\n",
        "\n",
        "\n",
        "  #### S3 ####\n",
        "\n",
        "  hidden_list = []\n",
        "  for i in range(HEIGHT):\n",
        "    for j in range(WIDTH):\n",
        "      if is_hidden(i, j):\n",
        "        hidden_list.append(cell_pos(i, j)+1)\n",
        "\n",
        "  global hidden_mines\n",
        "  equals(Gamma, hidden_list, hidden_mines)\n",
        "\n",
        "# click_board(3, 3)\n",
        "# plot_game(get_board(), 3, 3)\n",
        "# formula = build_CNF()\n",
        "# print(formula)\n"
      ]
    },
    {
      "cell_type": "code",
      "execution_count": 39,
      "metadata": {
        "id": "Su-xINi7UOL6"
      },
      "outputs": [],
      "source": [
        "def choose_start( how=\"0\"):\n",
        "\n",
        "  \"\"\"\n",
        "  Choses the starting point:\n",
        "  -> 0 : first cell with 0 value\n",
        "  -> otherwise : random choice\n",
        "\n",
        "  Arguments:\n",
        "  -> how: string \"0\" or other.\n",
        "\n",
        "  Returns:\n",
        "  x -> the x coordinate of the cell\n",
        "  y -> the y coordinate of the cell\n",
        "  \"\"\"\n",
        "\n",
        "  if how==\"0\":\n",
        "    for i in range(HEIGHT):\n",
        "      for j in range(WIDTH):\n",
        "        if hidboard[i][j] == 0:\n",
        "          return [i,j]\n",
        "    return [random.randrange(0, HEIGHT, 1),random.randrange(0, WIDTH, 1)]\n",
        "  else:\n",
        "    return [random.randrange(0, HEIGHT, 1),random.randrange(0, WIDTH, 1)]"
      ]
    },
    {
      "cell_type": "code",
      "execution_count": 40,
      "metadata": {
        "id": "VMY7bcS9YQuC"
      },
      "outputs": [],
      "source": [
        "def solve():\n",
        "\n",
        "\n",
        "  found_mines = []\n",
        "  found_free = []\n",
        "\n",
        "  plot_game(get_board(), [-1], [-1])\n",
        "  start = choose_start()\n",
        "  y_start = start[0]\n",
        "  x_start = start[1]\n",
        "  click_board(y_start, x_start)\n",
        "  plot_game(get_board(), [y_start], [x_start])\n",
        "  LOST = False\n",
        "  WON = False\n",
        "\n",
        "  while not LOST and not WON:\n",
        "\n",
        "    Gamma = Minisat22()\n",
        "    build_CNF(Gamma)\n",
        "\n",
        "    certainty = False\n",
        "\n",
        "    y_last = []\n",
        "    x_last = []\n",
        "\n",
        "    print(\"\\n\\nWe are assuming each cell to not be a mine and using SAT to verify which one is surely a MINE\\n\")\n",
        "\n",
        "    for i in range(HEIGHT):\n",
        "      for j in range(WIDTH):\n",
        "        if is_hidden(i, j):\n",
        "          if Gamma.solve(assumptions=[-(cell_pos(i, j)+1)])==False:\n",
        "              certainty = True\n",
        "              flag(i,j)\n",
        "\n",
        "              if([i,j] not in mines):\n",
        "                Match_lost()\n",
        "                return\n",
        "\n",
        "\n",
        "    if certainty==False:\n",
        "      print(\"\\nAll models resulted SAT so we are not sure!\")\n",
        "    else:\n",
        "      plot_game(get_board(), [-1], [-1])\n",
        "      print(\"\\nWe are sure that all these cells are MINES so they are flagged\\n\\n\")\n",
        "\n",
        "    if hidden_mines == 0:\n",
        "      for m in mines:\n",
        "        if m not in [f for f in flags]:\n",
        "          Match_lost()\n",
        "          return\n",
        "      Match_won()\n",
        "      return\n",
        "\n",
        "    print(\"\\n\\nWe are assuming each cell to be a mine and using SAT to verify which one is surely NOT A MINE\\n\")\n",
        "\n",
        "    for i in range(HEIGHT):\n",
        "      for j in range(WIDTH):\n",
        "        if is_hidden(i, j):\n",
        "          if Gamma.solve(assumptions=[(cell_pos(i, j)+1)])==False:\n",
        "              certainty = True\n",
        "              LOST = click_board(i, j)\n",
        "              y_last.append(i)\n",
        "              x_last.append(j)\n",
        "\n",
        "\n",
        "    if certainty==False:\n",
        "      print(\"\\nAll models resulted SAT so we are not sure!\")\n",
        "    else:\n",
        "      plot_game(get_board(), y_last, x_last)\n",
        "      print(\"\\nWe are sure that all these cells are NOT MINES!\\n\\n\")\n",
        "\n",
        "    if hidden_mines == 0:\n",
        "      Match_won()\n",
        "      return\n",
        "\n",
        "    if LOST:\n",
        "      Match_lost()\n",
        "      return\n",
        "\n",
        "\n",
        "    if certainty==False:\n",
        "\n",
        "      print(\"\\n\\n\\nUsing SAT all models resulted sat, so we are not sure of which cell is or is not a mine!\\n\")\n",
        "\n",
        "      print(\"\\nWe are using WMC to calculate every possible model, then we will calculate the probability for every cell to NOT be a MINE\\n\")\n",
        "\n",
        "      free_cells = []\n",
        "      for i in range(HEIGHT):\n",
        "        for j in range(WIDTH):\n",
        "          if not is_hidden(i, j):\n",
        "            free_cells.append(-(cell_pos(i, j)+1))\n",
        "\n",
        "\n",
        "      numberofcells = HEIGHT*WIDTH\n",
        "      models = []\n",
        "      for model in Gamma.enum_models(assumptions=free_cells):\n",
        "        models.append(model[:numberofcells])\n",
        "      total_models_sat = [0 for i in range(numberofcells)]\n",
        "\n",
        "      for model in models:\n",
        "        for l in model:\n",
        "          this_x = (abs(l)-1)%WIDTH\n",
        "          this_y = (abs(l)-1)//WIDTH\n",
        "          if is_hidden(this_y, this_x):\n",
        "            if l>0:\n",
        "              total_models_sat[l-1] = total_models_sat[l-1] + 1\n",
        "          else:\n",
        "            total_models_sat[abs(l)-1] = total_models_sat[abs(l)-1] + 1\n",
        "\n",
        "      total_models = len(models)\n",
        "      best_choice = min(total_models_sat)\n",
        "      best_probability = best_choice/total_models\n",
        "\n",
        "      best_cell_pos = total_models_sat.index(best_choice)\n",
        "\n",
        "      best_x = (best_cell_pos)%WIDTH\n",
        "      best_y = (best_cell_pos)//WIDTH\n",
        "\n",
        "      LOST = click_board(best_y, best_x)\n",
        "      plot_game(get_board(), [best_y], [best_x])\n",
        "\n",
        "      print(\"\\nWe have chosen the cell \" + str(best_y) + \" \" + str(best_x) + \" because it had the lowest probability of being a MINE : \" + str(best_probability))\n",
        "\n",
        "      if hidden_mines == 0:\n",
        "        Match_won()\n",
        "        return\n",
        "\n",
        "      if LOST:\n",
        "        Match_lost()\n",
        "        return\n",
        "\n",
        "\n",
        "    Gamma.delete()"
      ]
    },
    {
      "cell_type": "markdown",
      "source": [
        "# RUN"
      ],
      "metadata": {
        "id": "FTRWAnAgiaKA"
      }
    },
    {
      "cell_type": "code",
      "source": [
        "solve()"
      ],
      "metadata": {
        "colab": {
          "base_uri": "https://localhost:8080/",
          "height": 1000
        },
        "id": "Bztklq30iYoj",
        "outputId": "ec3cb39b-0887-4bba-8240-07a2f4557d96"
      },
      "execution_count": 41,
      "outputs": [
        {
          "output_type": "stream",
          "name": "stdout",
          "text": [
            "\n",
            "\n",
            " //#############\\\\ \n",
            " || MINES =  4 ||\n",
            " \\\\#############// \n",
            "\n",
            "\n"
          ]
        },
        {
          "output_type": "display_data",
          "data": {
            "text/plain": [
              "<Figure size 400x400 with 16 Axes>"
            ],
            "image/png": "[encoded data removed]"
          },
          "metadata": {}
        },
        {
          "output_type": "stream",
          "name": "stdout",
          "text": [
            "\n",
            "\n",
            " //#############\\\\ \n",
            " || MINES =  4 ||\n",
            " \\\\#############// \n",
            "\n",
            "\n"
          ]
        },
        {
          "output_type": "display_data",
          "data": {
            "text/plain": [
              "<Figure size 400x400 with 16 Axes>"
            ],
            "image/png": "[encoded data removed]"
          },
          "metadata": {}
        },
        {
          "output_type": "stream",
          "name": "stdout",
          "text": [
            "\n",
            "\n",
            "We are assuming each cell to not be a mine and using SAT to verify which one is surely a MINE\n",
            "\n",
            "\n",
            "\n",
            " //#############\\\\ \n",
            " || MINES =  0 ||\n",
            " \\\\#############// \n",
            "\n",
            "\n"
          ]
        },
        {
          "output_type": "display_data",
          "data": {
            "text/plain": [
              "<Figure size 400x400 with 16 Axes>"
            ],
            "image/png": "[encoded data removed]"
          },
          "metadata": {}
        },
        {
          "output_type": "stream",
          "name": "stdout",
          "text": [
            "\n",
            "We are sure that all these cells are MINES so they are flagged\n",
            "\n",
            "\n",
            "\n",
            "\n",
            " //##########\\\\ \n",
            " || YOU WON! || \n",
            " \\\\##########// \n",
            "\n",
            "\n"
          ]
        }
      ]
    }
  ],
  "metadata": {
    "colab": {
      "provenance": [],
      "authorship_tag": "ABX9TyPmxoSfr0jK5iuf22Hj3HGp",
      "include_colab_link": true
    },
    "kernelspec": {
      "display_name": "Python 3",
      "name": "python3"
    },
    "language_info": {
      "name": "python"
    }
  },
  "nbformat": 4,
  "nbformat_minor": 0
}